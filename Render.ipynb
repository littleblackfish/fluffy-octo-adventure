{
 "cells": [
  {
   "cell_type": "code",
   "execution_count": 1,
   "metadata": {},
   "outputs": [],
   "source": [
    "import pandas as pd\n",
    "\n",
    "import plotly.graph_objects as go\n",
    "import plotly.io as pio\n",
    "import plotly.express as px\n",
    "\n",
    "pio.renderers.default='notebook_connected'"
   ]
  },
  {
   "cell_type": "code",
   "execution_count": 4,
   "metadata": {},
   "outputs": [],
   "source": [
    "df=pd.read_pickle('thinkpad_delta.pkl')\n",
    "df_filtered = df[(df.delta.abs() > df.delta.quantile(0.9))]"
   ]
  },
  {
   "cell_type": "code",
   "execution_count": 5,
   "metadata": {},
   "outputs": [
    {
     "data": {
      "text/html": [
       "        <script type=\"text/javascript\">\n",
       "        window.PlotlyConfig = {MathJaxConfig: 'local'};\n",
       "        if (window.MathJax) {MathJax.Hub.Config({SVG: {font: \"STIX-Web\"}});}\n",
       "        if (typeof require !== 'undefined') {\n",
       "        require.undef(\"plotly\");\n",
       "        requirejs.config({\n",
       "            paths: {\n",
       "                'plotly': ['https://cdn.plot.ly/plotly-latest.min']\n",
       "            }\n",
       "        });\n",
       "        require(['plotly'], function(Plotly) {\n",
       "            window._Plotly = Plotly;\n",
       "        });\n",
       "        }\n",
       "        </script>\n",
       "        "
      ]
     },
     "metadata": {},
     "output_type": "display_data"
    },
    {
     "data": {
      "text/html": [
       "<div>\n",
       "        \n",
       "        \n",
       "            <div id=\"e6c12f41-8ddc-4cc8-91c2-e66db6b26959\" class=\"plotly-graph-div\" style=\"height:525px; width:100%;\"></div>\n",
       "            <script type=\"text/javascript\">\n",
       "                require([\"plotly\"], function(Plotly) {\n",
       "                    window.PLOTLYENV=window.PLOTLYENV || {};\n",
       "                    \n",
       "                if (document.getElementById(\"e6c12f41-8ddc-4cc8-91c2-e66db6b26959\")) {\n",
       "                    Plotly.newPlot(\n",
       "                        'e6c12f41-8ddc-4cc8-91c2-e66db6b26959',\n",
       "                        [{\"type\": \"bar\", \"x\": [\"RotMG\", \"Ice_Poseidon\", \"deadbydaylight\", \"bodybuilding\", \"Gamingcirclejerk\", \"beholdthemasterrace\", \"casualiama\", \"gwent\", \"thedivision\", \"TopMindsOfReddit\", \"KeepOurCirclejerkFree\", \"BitcoinAll\", \"traaaaaaannnnnnnnnns\", \"PhotoshopRequest\", \"thinkpadsforsale\", \"WindowsMR\", \"Porsche\", \"askTO\", \"sneakpeekbot\", \"TrueReddit\", \"Sexsells\", \"blackdesertonline\", \"CHIBears\", \"drunk\", \"ManjaroLinux\", \"RoastMe\", \"Truckers\", \"newjersey\", \"sydney\", \"destiny2\", \"ffxiv\", \"indonesia\", \"TWEWY\", \"Gentoo\", \"UBC\", \"FocusST\", \"askgaybros\", \"AsiansGoneWild\", \"Rainbow6\", \"PublicFreakout\", \"law\", \"surrealmemes\", \"BetterEveryLoop\", \"Tokyo\", \"whitepeoplegifs\", \"shrooms\", \"DuelLinks\", \"Economics\", \"audioengineering\", \"WarshipPorn\", \"thisismylifenow\", \"airsoft\", \"AccidentalRenaissance\", \"PropagandaPosters\", \"ChapoTrapHouse\", \"btc\", \"Sneakers\", \"memes\", \"opendirectories\", \"FantasyPL\", \"BestFreePorn\", \"Romania\", \"summonerswar\", \"forhonor\", \"Brawlhalla\", \"trashyboners\", \"toronto\", \"malelivingspace\", \"Twitch\", \"lowendgaming\", \"MEOW_IRL\", \"trees\", \"TooAfraidToAsk\", \"corgi\", \"ladybonersgw\", \"photocritique\", \"MachineLearning\", \"whatsthisbug\", \"terriblefacebookmemes\", \"AskOuija\", \"Shoplifting\", \"LivestreamFail\", \"MGTOW\", \"PUBG\", \"JordanPeterson\", \"wallstreetbets\", \"gdpr\", \"Catloaf\", \"titanfall\", \"shittyfoodporn\", \"ACMilan\", \"iamverybadass\", \"Hawaii\", \"jellybeantoes\", \"FIFA\", \"DnD\", \"vegan\", \"nevertellmetheodds\", \"crtgaming\", \"pop_os\", \"Bossfight\", \"StarWarsBattlefront\", \"rawdenim\", \"gtaonline\", \"MtF\", \"PixelArt\", \"MensRights\", \"Art\", \"mylittlepony\", \"Warthunder\", \"findareddit\", \"philosophy\", \"japanlife\", \"questionablecontent\", \"coolguides\", \"teslamotors\", \"vexillology\", \"HumansBeingBros\", \"graphic_design\", \"LetsNotMeet\", \"spain\", \"mallninjashit\", \"ExpandDong\", \"embedded\", \"flightsim\", \"keto\", \"ProtonMail\", \"Tau40K\", \"Iowa\", \"LSD\", \"unpopularopinion\", \"pokemongo\", \"aviation\", \"whatsthisplant\", \"Shitty_Car_Mods\", \"nyc\", \"lockpicking\", \"bashonubuntuonwindows\", \"virginvschad\", \"Axon7\", \"hiphopheads\", \"ethtrader\", \"Anarchism\", \"SuicideWatch\", \"relationships\", \"Catholicism\", \"Turkey\", \"doctorwho\", \"PewdiepieSubmissions\", \"seduction\", \"Iota\", \"SandersForPresident\", \"UnethicalLifeProTips\", \"Christianity\", \"Braincels\", \"math\", \"flashlight\", \"mexico\", \"EliteDangerous\", \"iamatotalpieceofshit\", \"Physics\", \"AskAnAmerican\", \"SeattleWA\", \"zelda\", \"wine_gaming\", \"steinsgate\", \"Nexus\", \"leagueoflegends\", \"ireland\", \"csgo\", \"electricians\", \"FireEmblemHeroes\", \"civ\", \"rickandmorty\", \"GlobalOffensive\", \"migraine\", \"GalaxyNote8\", \"PBSOD\", \"HiTMAN\", \"EngineeringStudents\", \"California\", \"beta\", \"AskScienceFiction\", \"MapPorn\", \"hockey\", \"runescape\", \"statistics\", \"thighdeology\", \"Silverbugs\", \"MildlyStartledCats\", \"HalfLife\", \"spotted\", \"MTB\", \"IncelTears\", \"StarTrekDiscovery\", \"circlejerk\", \"Rowing\", \"fakehistoryporn\", \"Roku\", \"macbookpro\", \"Nexus7\", \"openbsd\", \"FellowKids\", \"GalaxyS8\", \"italy\", \"writing\", \"MLPLounge\", \"FoodPorn\", \"LinuxOnThinkpads\"], \"y\": [162.83342903354475, 161.61984807774073, 119.54904160986749, 117.32414319089342, 115.90829874245539, 114.69471778665134, 94.46836852325075, 73.43296528931415, 72.62391131877813, 71.8148573482421, 66.65713828607495, 61.49941922390781, 55.49893560909897, 51.89190332379253, 45.520603305821346, 44.30702235001731, 43.49796837948129, 42.28438742367725, 38.64364455626515, 37.9694329141518, 37.69974825730646, 37.025536615193104, 35.81195565938907, 34.59837470358503, 34.59837470358503, 34.51746930653143, 34.193847718317016, 33.384793747780996, 32.575739777244976, 31.159895328806932, 30.222128226594727, 29.137260402466875, 28.53046992456486, 27.923679446662838, 27.72141595402883, 26.912361983492808, 26.20443975927379, 26.103308012956788, 24.990858803469752, 23.855935872578947, 23.676146101348714, 23.541303772926046, 23.136776787658036, 22.46256514554468, 21.653511175008656, 21.653511175008656, 21.537932036360655, 21.383826518163318, 20.43993021920462, 20.13653498025361, 18.21503180023056, 18.012768307596552, 18.012768307596552, 17.74308365075121, 17.58801497306514, 17.577123861923308, 17.24416703558733, 17.203714337060525, 17.203714337060525, 16.994926215631878, 16.900319098109517, 15.990133381256491, 14.911394753875127, 14.739777244973547, 14.372025440184446, 14.237183111761777, 13.79412974694443, 13.56297146964842, 13.56297146964842, 13.158444484380409, 13.158444484380409, 13.037086388800006, 12.956180991746402, 12.753917499112397, 11.702147337415568, 11.13580955804035, 10.73128257277234, 10.412564341955118, 10.326755587504328, 10.256403068327282, 10.057070930658988, 9.989649766447654, 9.795813919340063, 9.787386273813647, 9.330996854536915, 9.163740504858794, 9.113174631700293, 8.708647646432281, 8.708647646432281, 8.708647646432281, 8.455818280639773, 8.405252407481273, 8.30412066116427, 8.30412066116427, 8.097153366375986, 8.070739708125034, 8.049846556138663, 7.944541118703816, 7.899593675896257, 7.899593675896257, 7.899593675896257, 7.764751347473588, 7.697330183262251, 7.629909019050918, 7.495066690628246, 7.495066690628246, 7.360224362205575, 7.26390841333224, 7.191671451677236, 7.171445102413837, 7.090539705360235, 7.090539705360234, 7.090539705360234, 7.090539705360234, 7.090539705360234, 7.016989344402414, 6.760313594937368, 6.686012720092223, 6.686012720092223, 6.686012720092223, 6.686012720092223, 6.686012720092223, 6.686012720092223, 6.686012720092223, 6.686012720092223, 6.589696771218887, 6.483749227458216, 6.483749227458216, 6.28148573482421, 6.180353988507207, 6.125898432798053, 6.092706475032472, 6.058995892926805, 6.056748520786426, 6.031064267753536, 6.003373432452452, 5.876958749556199, 5.876958749556199, 5.674695256922194, 5.472431764288187, 5.391526367234586, 5.390028119140999, 5.310620970180983, 5.30387885375985, 5.202747107442847, 5.1690365253371775, 5.104679959499086, 5.101615361125844, 5.067904779020177, 5.067904779020175, 5.067904779020175, 5.067904779020175, 5.031129598541265, 5.00048361480884, 4.933062450597506, 4.906093984912972, 4.86564128638617, 4.843167564982392, 4.825188587859368, 4.798220122174835, 4.798220122174834, 4.766223637464371, 4.734764908799461, 4.663377793752164, 4.663377793752164, 4.663377793752164, 4.663377793752164, 4.5585004272011975, 4.545934475448549, 4.528535465329494, 4.461114301118157, 4.403628887422178, 4.387563940160337, 4.3622299269415326, 4.258850808484153, 4.258850808484153, 4.237559914522678, 4.17794541143055, 4.124008480061483, 4.085482100512147, 4.056587315850146, 4.056587315850146, 4.04594186886941, 3.9934811061483373, 3.9699029618641437, 3.934340149972451, 3.8543238232161405, 3.8543238232161405, 3.8543238232161405, 3.8543238232161405, 3.786902659004806, 3.7531920768991376, 3.7531920768991376, 3.661691925469468, 3.6520603305821346, 3.6520603305821346, 3.6520603305821346, 3.6520603305821346, 3.6520603305821346, 3.6520603305821346, 3.6520603305821346, 3.5846391663707995, 3.5792454732338927, 3.534960413794026, 3.5233471989059493, 3.494744280755686, 3.4902495364749306, 3.449796837948129, 3.449796837948129]}],\n",
       "                        {\"template\": {\"data\": {\"bar\": [{\"error_x\": {\"color\": \"#2a3f5f\"}, \"error_y\": {\"color\": \"#2a3f5f\"}, \"marker\": {\"line\": {\"color\": \"#E5ECF6\", \"width\": 0.5}}, \"type\": \"bar\"}], \"barpolar\": [{\"marker\": {\"line\": {\"color\": \"#E5ECF6\", \"width\": 0.5}}, \"type\": \"barpolar\"}], \"carpet\": [{\"aaxis\": {\"endlinecolor\": \"#2a3f5f\", \"gridcolor\": \"white\", \"linecolor\": \"white\", \"minorgridcolor\": \"white\", \"startlinecolor\": \"#2a3f5f\"}, \"baxis\": {\"endlinecolor\": \"#2a3f5f\", \"gridcolor\": \"white\", \"linecolor\": \"white\", \"minorgridcolor\": \"white\", \"startlinecolor\": \"#2a3f5f\"}, \"type\": \"carpet\"}], \"choropleth\": [{\"colorbar\": {\"outlinewidth\": 0, \"ticks\": \"\"}, \"type\": \"choropleth\"}], \"contour\": [{\"colorbar\": {\"outlinewidth\": 0, \"ticks\": \"\"}, \"colorscale\": [[0.0, \"#0d0887\"], [0.1111111111111111, \"#46039f\"], [0.2222222222222222, \"#7201a8\"], [0.3333333333333333, \"#9c179e\"], [0.4444444444444444, \"#bd3786\"], [0.5555555555555556, \"#d8576b\"], [0.6666666666666666, \"#ed7953\"], [0.7777777777777778, \"#fb9f3a\"], [0.8888888888888888, \"#fdca26\"], [1.0, \"#f0f921\"]], \"type\": \"contour\"}], \"contourcarpet\": [{\"colorbar\": {\"outlinewidth\": 0, \"ticks\": \"\"}, \"type\": \"contourcarpet\"}], \"heatmap\": [{\"colorbar\": {\"outlinewidth\": 0, \"ticks\": \"\"}, \"colorscale\": [[0.0, \"#0d0887\"], [0.1111111111111111, \"#46039f\"], [0.2222222222222222, \"#7201a8\"], [0.3333333333333333, \"#9c179e\"], [0.4444444444444444, \"#bd3786\"], [0.5555555555555556, \"#d8576b\"], [0.6666666666666666, \"#ed7953\"], [0.7777777777777778, \"#fb9f3a\"], [0.8888888888888888, \"#fdca26\"], [1.0, \"#f0f921\"]], \"type\": \"heatmap\"}], \"heatmapgl\": [{\"colorbar\": {\"outlinewidth\": 0, \"ticks\": \"\"}, \"colorscale\": [[0.0, \"#0d0887\"], [0.1111111111111111, \"#46039f\"], [0.2222222222222222, \"#7201a8\"], [0.3333333333333333, \"#9c179e\"], [0.4444444444444444, \"#bd3786\"], [0.5555555555555556, \"#d8576b\"], [0.6666666666666666, \"#ed7953\"], [0.7777777777777778, \"#fb9f3a\"], [0.8888888888888888, \"#fdca26\"], [1.0, \"#f0f921\"]], \"type\": \"heatmapgl\"}], \"histogram\": [{\"marker\": {\"colorbar\": {\"outlinewidth\": 0, \"ticks\": \"\"}}, \"type\": \"histogram\"}], \"histogram2d\": [{\"colorbar\": {\"outlinewidth\": 0, \"ticks\": \"\"}, \"colorscale\": [[0.0, \"#0d0887\"], [0.1111111111111111, \"#46039f\"], [0.2222222222222222, \"#7201a8\"], [0.3333333333333333, \"#9c179e\"], [0.4444444444444444, \"#bd3786\"], [0.5555555555555556, \"#d8576b\"], [0.6666666666666666, \"#ed7953\"], [0.7777777777777778, \"#fb9f3a\"], [0.8888888888888888, \"#fdca26\"], [1.0, \"#f0f921\"]], \"type\": \"histogram2d\"}], \"histogram2dcontour\": [{\"colorbar\": {\"outlinewidth\": 0, \"ticks\": \"\"}, \"colorscale\": [[0.0, \"#0d0887\"], [0.1111111111111111, \"#46039f\"], [0.2222222222222222, \"#7201a8\"], [0.3333333333333333, \"#9c179e\"], [0.4444444444444444, \"#bd3786\"], [0.5555555555555556, \"#d8576b\"], [0.6666666666666666, \"#ed7953\"], [0.7777777777777778, \"#fb9f3a\"], [0.8888888888888888, \"#fdca26\"], [1.0, \"#f0f921\"]], \"type\": \"histogram2dcontour\"}], \"mesh3d\": [{\"colorbar\": {\"outlinewidth\": 0, \"ticks\": \"\"}, \"type\": \"mesh3d\"}], \"parcoords\": [{\"line\": {\"colorbar\": {\"outlinewidth\": 0, \"ticks\": \"\"}}, \"type\": \"parcoords\"}], \"scatter\": [{\"marker\": {\"colorbar\": {\"outlinewidth\": 0, \"ticks\": \"\"}}, \"type\": \"scatter\"}], \"scatter3d\": [{\"line\": {\"colorbar\": {\"outlinewidth\": 0, \"ticks\": \"\"}}, \"marker\": {\"colorbar\": {\"outlinewidth\": 0, \"ticks\": \"\"}}, \"type\": \"scatter3d\"}], \"scattercarpet\": [{\"marker\": {\"colorbar\": {\"outlinewidth\": 0, \"ticks\": \"\"}}, \"type\": \"scattercarpet\"}], \"scattergeo\": [{\"marker\": {\"colorbar\": {\"outlinewidth\": 0, \"ticks\": \"\"}}, \"type\": \"scattergeo\"}], \"scattergl\": [{\"marker\": {\"colorbar\": {\"outlinewidth\": 0, \"ticks\": \"\"}}, \"type\": \"scattergl\"}], \"scattermapbox\": [{\"marker\": {\"colorbar\": {\"outlinewidth\": 0, \"ticks\": \"\"}}, \"type\": \"scattermapbox\"}], \"scatterpolar\": [{\"marker\": {\"colorbar\": {\"outlinewidth\": 0, \"ticks\": \"\"}}, \"type\": \"scatterpolar\"}], \"scatterpolargl\": [{\"marker\": {\"colorbar\": {\"outlinewidth\": 0, \"ticks\": \"\"}}, \"type\": \"scatterpolargl\"}], \"scatterternary\": [{\"marker\": {\"colorbar\": {\"outlinewidth\": 0, \"ticks\": \"\"}}, \"type\": \"scatterternary\"}], \"surface\": [{\"colorbar\": {\"outlinewidth\": 0, \"ticks\": \"\"}, \"colorscale\": [[0.0, \"#0d0887\"], [0.1111111111111111, \"#46039f\"], [0.2222222222222222, \"#7201a8\"], [0.3333333333333333, \"#9c179e\"], [0.4444444444444444, \"#bd3786\"], [0.5555555555555556, \"#d8576b\"], [0.6666666666666666, \"#ed7953\"], [0.7777777777777778, \"#fb9f3a\"], [0.8888888888888888, \"#fdca26\"], [1.0, \"#f0f921\"]], \"type\": \"surface\"}], \"table\": [{\"cells\": {\"fill\": {\"color\": \"#EBF0F8\"}, \"line\": {\"color\": \"white\"}}, \"header\": {\"fill\": {\"color\": \"#C8D4E3\"}, \"line\": {\"color\": \"white\"}}, \"type\": \"table\"}]}, \"layout\": {\"annotationdefaults\": {\"arrowcolor\": \"#2a3f5f\", \"arrowhead\": 0, \"arrowwidth\": 1}, \"colorscale\": {\"diverging\": [[0, \"#8e0152\"], [0.1, \"#c51b7d\"], [0.2, \"#de77ae\"], [0.3, \"#f1b6da\"], [0.4, \"#fde0ef\"], [0.5, \"#f7f7f7\"], [0.6, \"#e6f5d0\"], [0.7, \"#b8e186\"], [0.8, \"#7fbc41\"], [0.9, \"#4d9221\"], [1, \"#276419\"]], \"sequential\": [[0.0, \"#0d0887\"], [0.1111111111111111, \"#46039f\"], [0.2222222222222222, \"#7201a8\"], [0.3333333333333333, \"#9c179e\"], [0.4444444444444444, \"#bd3786\"], [0.5555555555555556, \"#d8576b\"], [0.6666666666666666, \"#ed7953\"], [0.7777777777777778, \"#fb9f3a\"], [0.8888888888888888, \"#fdca26\"], [1.0, \"#f0f921\"]], \"sequentialminus\": [[0.0, \"#0d0887\"], [0.1111111111111111, \"#46039f\"], [0.2222222222222222, \"#7201a8\"], [0.3333333333333333, \"#9c179e\"], [0.4444444444444444, \"#bd3786\"], [0.5555555555555556, \"#d8576b\"], [0.6666666666666666, \"#ed7953\"], [0.7777777777777778, \"#fb9f3a\"], [0.8888888888888888, \"#fdca26\"], [1.0, \"#f0f921\"]]}, \"colorway\": [\"#636efa\", \"#EF553B\", \"#00cc96\", \"#ab63fa\", \"#FFA15A\", \"#19d3f3\", \"#FF6692\", \"#B6E880\", \"#FF97FF\", \"#FECB52\"], \"font\": {\"color\": \"#2a3f5f\"}, \"geo\": {\"bgcolor\": \"white\", \"lakecolor\": \"white\", \"landcolor\": \"#E5ECF6\", \"showlakes\": true, \"showland\": true, \"subunitcolor\": \"white\"}, \"hoverlabel\": {\"align\": \"left\"}, \"hovermode\": \"closest\", \"mapbox\": {\"style\": \"light\"}, \"paper_bgcolor\": \"white\", \"plot_bgcolor\": \"#E5ECF6\", \"polar\": {\"angularaxis\": {\"gridcolor\": \"white\", \"linecolor\": \"white\", \"ticks\": \"\"}, \"bgcolor\": \"#E5ECF6\", \"radialaxis\": {\"gridcolor\": \"white\", \"linecolor\": \"white\", \"ticks\": \"\"}}, \"scene\": {\"xaxis\": {\"backgroundcolor\": \"#E5ECF6\", \"gridcolor\": \"white\", \"gridwidth\": 2, \"linecolor\": \"white\", \"showbackground\": true, \"ticks\": \"\", \"zerolinecolor\": \"white\"}, \"yaxis\": {\"backgroundcolor\": \"#E5ECF6\", \"gridcolor\": \"white\", \"gridwidth\": 2, \"linecolor\": \"white\", \"showbackground\": true, \"ticks\": \"\", \"zerolinecolor\": \"white\"}, \"zaxis\": {\"backgroundcolor\": \"#E5ECF6\", \"gridcolor\": \"white\", \"gridwidth\": 2, \"linecolor\": \"white\", \"showbackground\": true, \"ticks\": \"\", \"zerolinecolor\": \"white\"}}, \"shapedefaults\": {\"line\": {\"color\": \"#2a3f5f\"}}, \"ternary\": {\"aaxis\": {\"gridcolor\": \"white\", \"linecolor\": \"white\", \"ticks\": \"\"}, \"baxis\": {\"gridcolor\": \"white\", \"linecolor\": \"white\", \"ticks\": \"\"}, \"bgcolor\": \"#E5ECF6\", \"caxis\": {\"gridcolor\": \"white\", \"linecolor\": \"white\", \"ticks\": \"\"}}, \"title\": {\"x\": 0.05}, \"xaxis\": {\"automargin\": true, \"gridcolor\": \"white\", \"linecolor\": \"white\", \"ticks\": \"\", \"zerolinecolor\": \"white\", \"zerolinewidth\": 2}, \"yaxis\": {\"automargin\": true, \"gridcolor\": \"white\", \"linecolor\": \"white\", \"ticks\": \"\", \"zerolinecolor\": \"white\", \"zerolinewidth\": 2}}}},\n",
       "                        {\"responsive\": true}\n",
       "                    ).then(function(){\n",
       "                            \n",
       "var gd = document.getElementById('e6c12f41-8ddc-4cc8-91c2-e66db6b26959');\n",
       "var x = new MutationObserver(function (mutations, observer) {{\n",
       "        var display = window.getComputedStyle(gd).display;\n",
       "        if (!display || display === 'none') {{\n",
       "            console.log([gd, 'removed!']);\n",
       "            Plotly.purge(gd);\n",
       "            observer.disconnect();\n",
       "        }}\n",
       "}});\n",
       "\n",
       "// Listen for the removal of the full notebook cells\n",
       "var notebookContainer = gd.closest('#notebook-container');\n",
       "if (notebookContainer) {{\n",
       "    x.observe(notebookContainer, {childList: true});\n",
       "}}\n",
       "\n",
       "// Listen for the clearing of the current output cell\n",
       "var outputEl = gd.closest('.output');\n",
       "if (outputEl) {{\n",
       "    x.observe(outputEl, {childList: true});\n",
       "}}\n",
       "\n",
       "                        })\n",
       "                };\n",
       "                });\n",
       "            </script>\n",
       "        </div>"
      ]
     },
     "metadata": {},
     "output_type": "display_data"
    }
   ],
   "source": [
    "go.Figure(go.Bar(x=df_filtered.index, y=df_filtered.delta))"
   ]
  }
 ],
 "metadata": {
  "kernelspec": {
   "display_name": "Python 3",
   "language": "python",
   "name": "python3"
  },
  "language_info": {
   "codemirror_mode": {
    "name": "ipython",
    "version": 3
   },
   "file_extension": ".py",
   "mimetype": "text/x-python",
   "name": "python",
   "nbconvert_exporter": "python",
   "pygments_lexer": "ipython3",
   "version": "3.7.5"
  }
 },
 "nbformat": 4,
 "nbformat_minor": 2
}
